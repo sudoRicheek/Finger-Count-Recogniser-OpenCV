{
 "cells": [
  {
   "cell_type": "markdown",
   "metadata": {},
   "source": [
    "# Basic Finger Count Recogniser"
   ]
  },
  {
   "cell_type": "markdown",
   "metadata": {},
   "source": [
    "## Imports/ Dependencies"
   ]
  },
  {
   "cell_type": "code",
   "execution_count": 8,
   "metadata": {},
   "outputs": [],
   "source": [
    "import numpy as np\n",
    "import cv2\n",
    "import math"
   ]
  },
  {
   "cell_type": "markdown",
   "metadata": {},
   "source": [
    "## Global Variables and Constants"
   ]
  },
  {
   "cell_type": "code",
   "execution_count": 9,
   "metadata": {},
   "outputs": [],
   "source": [
    "startrect = (300,300)     #Start point of capturing window\n",
    "endrect = (100,100)       #End point of capturing window\n",
    "number_frames = 0         #Frame Count\n",
    "background = None         #Extracted background from frame\n",
    "acc_weight = 0.5          #CONSTANT for weighted average"
   ]
  },
  {
   "cell_type": "markdown",
   "metadata": {},
   "source": [
    "## Analyse Background\n",
    "\n",
    "Analyses the background for first 120 frames and get the average image of the background"
   ]
  },
  {
   "cell_type": "code",
   "execution_count": 10,
   "metadata": {},
   "outputs": [],
   "source": [
    "def analyse_background(frame_blurred):\n",
    "    global acc_weight, background\n",
    "    \n",
    "    if background is None:\n",
    "        background = frame_blurred.copy().astype(\"float\")\n",
    "    \n",
    "    cv2.accumulateWeighted(frame_blurred, background, acc_weight)   \n",
    "    #Uses passed on frame and background to analyse the background\n",
    "    #Changes the \"background\" variable in  each loop"
   ]
  },
  {
   "cell_type": "markdown",
   "metadata": {},
   "source": [
    "## Analyse Hand\n",
    "Uses the analysed background for subtraction and calculates the contour and its defects for finger count calculation.\n",
    "This method houses the core logic"
   ]
  },
  {
   "cell_type": "code",
   "execution_count": 11,
   "metadata": {},
   "outputs": [],
   "source": [
    "def analyse_hand(frame_blurred, img, crop_img):\n",
    "    global background\n",
    "    # Calculates the Absolute Difference between the background and the frame\n",
    "    diff = cv2.absdiff(background.astype(\"uint8\"), frame_blurred)\n",
    "\n",
    "    _, thresh = cv2.threshold(diff, 100, 255, cv2.THRESH_BINARY+cv2.THRESH_OTSU)\n",
    "    cv2.imshow('Thresholded', thresh)\n",
    "\n",
    "    contours, hierarchy = cv2.findContours(thresh.copy(),cv2.RETR_TREE, \\\n",
    "            cv2.CHAIN_APPROX_NONE)\n",
    "\n",
    "    #################################################\n",
    "    # Use the contour with maximum size for further #\n",
    "    # calculations                                  #\n",
    "    #################################################\n",
    "    maxi = [cv2.contourArea(cnt) for cnt in contours]\n",
    "    if len(maxi) == 0:\n",
    "        cv2.imshow('Finger Counter',img)\n",
    "        return (diff, 0, None, img)\n",
    "\n",
    "    maxi = maxi.index(max(maxi))\n",
    "    cnt = contours[maxi]\n",
    "    \n",
    "    #################################################\n",
    "    # Find the convex hull and convexity defects of #\n",
    "    # the contour for analysis                      #\n",
    "    #################################################\n",
    "    hull = cv2.convexHull(cnt,returnPoints = False)\n",
    "    defects = cv2.convexityDefects(cnt,hull)\n",
    "\n",
    "    #################################################\n",
    "    # Draw the contour and overlay the region of    #\n",
    "    # interest with the cropped image               #\n",
    "    #################################################\n",
    "    crop_img = cv2.drawContours(crop_img, cnt, -1, (0, 0, 255), 2) \n",
    "    img[endrect[0]:startrect[0], endrect[1]:startrect[1]] = crop_img\n",
    "\n",
    "    #Set count_defects to zero\n",
    "    count_defects = 0\n",
    "\n",
    "    #################################################\n",
    "    # Checks the different points of convexity      #\n",
    "    # defects for fingertips                        #\n",
    "    #################################################\n",
    "    if defects is None: #To avoid error in case any\n",
    "        return (diff, count_defects, defects, img)\n",
    "\n",
    "    for i in range(defects.shape[0]):\n",
    "        s,e,f,d = defects[i,0]\n",
    "        start = tuple(cnt[s][0])\n",
    "        end = tuple(cnt[e][0])\n",
    "        far = tuple(cnt[f][0])\n",
    "\n",
    "        a = math.sqrt((end[0] - start[0])**2 + (end[1] - start[1])**2)\n",
    "        b = math.sqrt((far[0] - start[0])**2 + (far[1] - start[1])**2)\n",
    "        c = math.sqrt((end[0] - far[0])**2 + (end[1] - far[1])**2)\n",
    "        angle_between_fingertips_and_fingerdip = math.acos((b**2 + c**2 - a**2)/(2*b*c)) * 57\n",
    "\n",
    "        if angle_between_fingertips_and_fingerdip <= 90:\n",
    "            count_defects += 1\n",
    "            cv2.circle(img,far,1,[0,0,255],-1)\n",
    "\n",
    "        cv2.line(img,start,end,[0,255,0],2)\n",
    "\n",
    "    x,y,w,h = cv2.boundingRect(cnt)\n",
    "    img = cv2.rectangle(img,(x,y),(x+w,y+h),(0,255,0),2)\n",
    "    \n",
    "    return (diff, count_defects, defects, img)"
   ]
  },
  {
   "cell_type": "markdown",
   "metadata": {},
   "source": [
    "## Displays the final images\n",
    "Puts text on images and displays them"
   ]
  },
  {
   "cell_type": "code",
   "execution_count": 12,
   "metadata": {},
   "outputs": [],
   "source": [
    "def show_images(diff, count_defects, fin_img, image_without_madness):\n",
    "    global endrect\n",
    "    \n",
    "    if (diff > 30).any() :\n",
    "        if(count_defects == 0):\n",
    "            cv2.putText(fin_img, \"Yeah 1 finger !\", endrect, cv2.FONT_HERSHEY_SIMPLEX, 1, 1)\n",
    "        elif(count_defects == 4):\n",
    "            cv2.putText(fin_img, \"Yeah 5 fingers !\", endrect, cv2.FONT_HERSHEY_SIMPLEX, 1, 1)\n",
    "        elif(count_defects == 3):\n",
    "            cv2.putText(fin_img, \"Yeah 4 fingers !\", endrect, cv2.FONT_HERSHEY_SIMPLEX, 1, 1)\n",
    "        elif(count_defects == 2):\n",
    "            cv2.putText(fin_img, \"Yeah 3 fingers !\", endrect, cv2.FONT_HERSHEY_SIMPLEX, 1, 1)\n",
    "        elif(count_defects == 1):\n",
    "            cv2.putText(fin_img, \"Yeah 2 fingers !\", endrect, cv2.FONT_HERSHEY_SIMPLEX, 1, 1)\n",
    "\n",
    "        cv2.imshow('Finger Counter !', fin_img)\n",
    "    else:\n",
    "        cv2.imshow('Finger Counter !', image_without_madness)"
   ]
  },
  {
   "cell_type": "markdown",
   "metadata": {},
   "source": [
    "## Main method\n",
    "Does the required changes in the original image and calls the required methods with required parameters"
   ]
  },
  {
   "cell_type": "code",
   "execution_count": 13,
   "metadata": {},
   "outputs": [],
   "source": [
    "def main():\n",
    "    cap = cv2.VideoCapture(0) #Turns on web cam and starts capturing\n",
    "    global endrect, number_frames\n",
    "    \n",
    "    while(True):\n",
    "        ret, img = cap.read()\n",
    "        img = cv2.flip(img,1)\n",
    "        cv2.rectangle(img,startrect,endrect,(0,255,0),0)\n",
    "        image_without_madness = img.copy()\n",
    "        crop_img = img[endrect[0]:startrect[0], endrect[1]:startrect[1]]\n",
    "        grey = cv2.cvtColor(crop_img, cv2.COLOR_BGR2GRAY)\n",
    "        value = (35, 35)\n",
    "        blurred = cv2.GaussianBlur(grey, value, 0)\n",
    "        \n",
    "        if(number_frames < 120):\n",
    "            cv2.putText(img, \"Wait analysing background\", endrect, cv2.FONT_HERSHEY_SIMPLEX, 1, 1)\n",
    "            cv2.imshow('Finger Counter !',img)    \n",
    "            analyse_background(blurred)\n",
    "        else :\n",
    "            diff, count_defects, defects, img = analyse_hand(blurred, img, crop_img)            \n",
    "            if defects is None:\n",
    "                continue\n",
    "            show_images(diff, count_defects, img, image_without_madness)\n",
    "    \n",
    "        number_frames += 1\n",
    "        k = cv2.waitKey(1)\n",
    "        if k == 27:\n",
    "            break\n",
    "        \n",
    "    cap.release()\n",
    "    cv2.destroyAllWindows()"
   ]
  },
  {
   "cell_type": "markdown",
   "metadata": {},
   "source": [
    "## For calling main() method"
   ]
  },
  {
   "cell_type": "code",
   "execution_count": 15,
   "metadata": {},
   "outputs": [],
   "source": [
    "if __name__=='__main__':\n",
    "    main()"
   ]
  }
 ],
 "metadata": {
  "kernelspec": {
   "display_name": "Python 3",
   "language": "python",
   "name": "python3"
  },
  "language_info": {
   "codemirror_mode": {
    "name": "ipython",
    "version": 3
   },
   "file_extension": ".py",
   "mimetype": "text/x-python",
   "name": "python",
   "nbconvert_exporter": "python",
   "pygments_lexer": "ipython3",
   "version": "3.7.6"
  }
 },
 "nbformat": 4,
 "nbformat_minor": 4
}
